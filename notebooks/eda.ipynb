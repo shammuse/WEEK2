
# EDA Notebook: eda.ipynb

# Importing necessary libraries
import pandas as pd
import numpy as np
from sqlalchemy import create_engine
from sklearn.decomposition import PCA
from sklearn.preprocessing import StandardScaler
import matplotlib.pyplot as plt
import seaborn as sns
import os

# Helper functions (from your provided code)

# 1. Data Cleaning Functions (Handle Missing Values and Outliers)
def handle_missing_values(data):
    """Replace missing values with column means for numeric columns."""
    quantitative_columns = data.select_dtypes(include=np.number).columns
    data[quantitative_columns] = data[quantitative_columns].apply(lambda col: col.fillna(col.mean()))
    print("Missing values handled.")
    return data

def treat_outliers(data):
    """Handle outliers using the IQR method for numeric columns."""
    quantitative_columns = data.select_dtypes(include=np.number).columns
    for col in quantitative_columns:
        Q1 = data[col].quantile(0.25)
        Q3 = data[col].quantile(0.75)
        IQR = Q3 - Q1
        lower_bound = Q1 - 1.5 * IQR
        upper_bound = Q3 + 1.5 * IQR
        data[col] = np.where(data[col] < lower_bound, lower_bound, data[col])
        data[col] = np.where(data[col] > upper_bound, upper_bound, data[col])
    print("Outliers handled.")
    return data

# 2. Database Connection Functions (PostgreSQL)
def connect_to_postgres(user, password, host, port, dbname):
    """Establish a connection to the PostgreSQL database."""
    try:
        connection_str = f'postgresql://{user}:{password}@{host}:{port}/{dbname}'
        engine = create_engine(connection_str)
        connection = engine.connect()
        print("Connection to PostgreSQL established successfully.")
        return connection
    except Exception as e:
        print(f"Error connecting to PostgreSQL: {e}")
        return None

def load_data_from_postgres(connection, query):
    """Load data from PostgreSQL using a SQL query."""
    try:
        data = pd.read_sql(query, connection)
        return data
    except Exception as e:
        print(f"Error loading data from PostgreSQL: {e}")
        return None

# 3. PCA Analysis and Plotting
def apply_pca(data, columns, n_components=2):
    """Apply PCA to the data and plot the results."""
    pca_folder = "graphs/pca"
    create_folder(pca_folder)

    scaler = StandardScaler()
    scaled_data = scaler.fit_transform(data[columns])
    pca = PCA(n_components=n_components)
    principal_components = pca.fit_transform(scaled_data)
    pca_df = pd.DataFrame(data=principal_components, columns=[f"PC{i+1}" for i in range(n_components)])
    
    print("Explained Variance Ratio:", pca.explained_variance_ratio_)

    # Plot PCA Results
    plt.figure(figsize=(10, 6))
    sns.scatterplot(x=pca_df["PC1"], y=pca_df["PC2"], hue=data["Total Data (Bytes)"], palette="viridis")
    plt.title("PCA Results")
    plt.xlabel("Principal Component 1")
    plt.ylabel("Principal Component 2")
    plt.tight_layout()
    plt.savefig(f"{pca_folder}/pca_results.png")
    plt.close()

def create_folder(folder_name):
    """Create a folder if it doesn't exist."""
    if not os.path.exists(folder_name):
        os.makedirs(folder_name)

# 4. Plotting Functions
def plot_histograms_and_boxplots(data, quantitative_columns):
    """Plot histograms and boxplots for numeric columns and save them."""
    histogram_folder = "graphs/histograms"
    boxplot_folder = "graphs/boxplots"
    create_folder(histogram_folder)
    create_folder(boxplot_folder)

    for col in quantitative_columns:
        # Histogram
        plt.figure(figsize=(8, 4))
        sns.histplot(data[col], kde=True)
        plt.title(f"Histogram of {col}")
        plt.tight_layout()
        plt.savefig(f"{histogram_folder}/{col}_histogram.png")
        plt.close()

        # Boxplot
        plt.figure(figsize=(8, 4))
        sns.boxplot(x=data[col])
        plt.title(f"Boxplot of {col}")
        plt.tight_layout()
        plt.savefig(f"{boxplot_folder}/{col}_boxplot.png")
        plt.close()

def plot_scatterplots(data, application_columns, target_column):
    """Plot scatterplots for application data vs Total Data and save them."""
    scatterplot_folder = "graphs/scatterplots"
    create_folder(scatterplot_folder)

    for app in application_columns:
        plt.figure(figsize=(8, 6))
        sns.scatterplot(x=data[app], y=data[target_column])
        plt.title(f"{target_column} vs {app}")
        plt.xlabel(app)
        plt.ylabel(target_column)
        plt.tight_layout()
        plt.savefig(f"{scatterplot_folder}/{app}_scatterplot.png")
        plt.close()

def plot_correlation_matrix(data, columns):
    """Plot and save the correlation matrix."""
    correlation_folder = "graphs/correlation"
    create_folder(correlation_folder)

    correlation_matrix = data[columns].corr()
    plt.figure(figsize=(10, 8))
    sns.heatmap(correlation_matrix, annot=True, cmap="coolwarm")
    plt.title("Correlation Matrix")
    plt.tight_layout()
    plt.savefig(f"{correlation_folder}/correlation_matrix.png")
    plt.close()

# Load Data from PostgreSQL (Replace with your connection details and query)
# Example connection details
user = 'postgres'
password = 'sh36am67'
host = 'localhost'
port = 'your_port'
dbname = 'my_database'

connection = connect_to_postgres(user, password, host, port, dbname)
if connection:
    query = 'SELECT * XDR_data'
    data = load_data_from_postgres(connection, query)

# Data Cleaning: Handle Missing Values and Outliers
data_cleaned = handle_missing_values(data)
data_cleaned = treat_outliers(data_cleaned)

# Exploratory Data Analysis (EDA)
quantitative_columns = data_cleaned.select_dtypes(include=np.number).columns

# Plot Histograms and Boxplots
plot_histograms_and_boxplots(data_cleaned, quantitative_columns)

# Plot Scatterplots (Choose appropriate application columns and target)
application_columns = ['Social Media', 'Google', 'Email', 'YouTube', 'Netflix', 'Gaming']  # Example columns
plot_scatterplots(data_cleaned, application_columns, 'Total Data (Bytes)')

# Plot Correlation Matrix
plot_correlation_matrix(data_cleaned, quantitative_columns)

# PCA Analysis: Apply PCA to the dataset
apply_pca(data_cleaned, quantitative_columns)
